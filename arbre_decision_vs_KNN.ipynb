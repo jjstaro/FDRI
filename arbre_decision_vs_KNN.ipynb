{
 "cells": [
  {
   "cell_type": "code",
   "execution_count": 22,
   "metadata": {},
   "outputs": [
    {
     "name": "stdout",
     "output_type": "stream",
     "text": [
      "     Valeur Actuelle  Valeur Prédite\n",
      "440             1.50            1.38\n",
      "412             1.78            2.12\n",
      "331             1.86            2.66\n",
      "625             1.06            1.70\n",
      "578             1.26            0.98\n",
      "..               ...             ...\n",
      "37              1.22            1.62\n",
      "644             3.06            2.74\n",
      "877             1.30            1.80\n",
      "817             1.74            2.08\n",
      "158             2.18            2.17\n",
      "\n",
      "[196 rows x 2 columns]\n",
      "Taux d'erreur\n",
      "Moyenne absolue: 0.33867346938775506\n",
      "La moyenne carré: 0.20628163265306124\n",
      "Moyenne quadratique : 0.45418237818420615\n"
     ]
    }
   ],
   "source": [
    "#arbe de decision\n",
    "import pandas as pd\n",
    "import numpy as np\n",
    "import matplotlib.pyplot as plt\n",
    "\n",
    "#import des données\n",
    "dataset = pd.read_csv('data_set/data_set_travel.csv')\n",
    "\n",
    "#affichageles datasets\n",
    "dataset.describe();\n",
    "X = dataset.drop(['Station_Vacances','UserID'], axis=1)\n",
    "#X = x.drop('UserID', axis=1)\n",
    "y = dataset['Station_Vacances']\n",
    "\n",
    "from sklearn.model_selection import train_test_split\n",
    "from sklearn import tree\n",
    "X_train, X_test, y_train, y_test = train_test_split(X, y, test_size=0.20, random_state=0)\n",
    "\n",
    "# entrainement avec 80% des donnees\n",
    "from sklearn.tree import DecisionTreeRegressor\n",
    "regressor = DecisionTreeRegressor()\n",
    "clf = regressor.fit(X_train, y_train)\n",
    "\n",
    "# prediction\n",
    "y_pred = regressor.predict(X_test)\n",
    "\n",
    "# affichage\n",
    "df=pd.DataFrame({'Valeur Actuelle':y_test, 'Valeur Prédite':y_pred})\n",
    "print(df)\n",
    "\n",
    "#taux d'erreur\n",
    "from sklearn import metrics\n",
    "print('Taux d\\'erreur')\n",
    "print('Moyenne absolue:', metrics.mean_absolute_error(y_test, y_pred))\n",
    "print('La moyenne carré:', metrics.mean_squared_error(y_test, y_pred))\n",
    "print('Moyenne quadratique :', np.sqrt(metrics.mean_squared_error(y_test, y_pred)))\n",
    "\n",
    "text_representation = tree.export_text(clf)\n",
    "print(text_representation)"
   ]
  },
  {
   "cell_type": "code",
   "execution_count": 24,
   "metadata": {},
   "outputs": [
    {
     "data": {
      "text/plain": [
       "Index(['UserID', 'Galerie_Art', 'Club_Danse', 'Bar_Jus', 'Restaurant',\n",
       "       'Musees', 'Station_Vacances', 'Parc_Pique-nique', 'Plage', 'Theatre',\n",
       "       'Religieux'],\n",
       "      dtype='object')"
      ]
     },
     "execution_count": 24,
     "metadata": {},
     "output_type": "execute_result"
    }
   ],
   "source": [
    "dataset.columns"
   ]
  },
  {
   "cell_type": "raw",
   "metadata": {},
   "source": [
    "20,80\n",
    "Erreur de la moyenne absolue: 0.35714285714285726\n",
    "Erreur de la moyenne carré: 0.22096326530612248\n",
    "Taux Erreur quadratique moyenne: 0.47006729869894426\n",
    "\n",
    "30,70\n",
    "Moyenne absolue: 0.3956802721088436\n",
    "Moyenne carré: 0.2705425170068027\n",
    "Moyenne quadratique : 0.5201370175317295"
   ]
  },
  {
   "cell_type": "code",
   "execution_count": 21,
   "metadata": {},
   "outputs": [
    {
     "name": "stdout",
     "output_type": "stream",
     "text": [
      "     Valeur actuelle  Valeur prédite\n",
      "440             1.50          1.5660\n",
      "412             1.78          2.1205\n",
      "331             1.86          2.0320\n",
      "625             1.06          1.6280\n",
      "578             1.26          1.5430\n",
      "..               ...             ...\n",
      "37              1.22          1.7720\n",
      "644             3.06          2.3195\n",
      "877             1.30          1.5950\n",
      "817             1.74          1.6590\n",
      "158             2.18          2.3335\n",
      "\n",
      "[196 rows x 2 columns]\n",
      "Taux d'erreur\n",
      "Moyennne absolue: 0.27601785714285715\n",
      "Myenne carré: 0.12344146811224489\n",
      "Moyenne quadratique: 0.35134238018241537\n"
     ]
    }
   ],
   "source": [
    "#Methode du KNN\n",
    "import pandas as pd\n",
    "import numpy as np\n",
    "import matplotlib.pyplot as plt\n",
    "\n",
    "#import des données\n",
    "dataset = pd.read_csv('data_set/data_set_travel.csv')\n",
    "#afficcher un apercu descritif du datasets\n",
    "dataset.describe();\n",
    "\n",
    "\n",
    "#suppression de la variable cible deu data set\n",
    "x = dataset.drop('Station_Vacances', axis=1)\n",
    "\n",
    "#suppression de l'ideé user\n",
    "X = x.drop('UserID', axis=1)\n",
    "\n",
    "# definition de la variable cible\n",
    "y = dataset['Station_Vacances']\n",
    "\n",
    "from sklearn.model_selection import train_test_split\n",
    "from sklearn import tree\n",
    "#definition des données d'entrainement de des données de test\n",
    "X_train, X_test, y_train, y_test = train_test_split(X, y, test_size=0.2, random_state=0)\n",
    "\n",
    "from sklearn.neighbors import KNeighborsRegressor\n",
    "KNR = KNeighborsRegressor(20)\n",
    "KNR.fit(X_train, y_train)\n",
    "\n",
    "# prediction\n",
    "y_pred = KNR.predict(X_test)\n",
    "\n",
    "# affichage des valeur prédite avec celles existantes \n",
    "df=pd.DataFrame({'Valeur actuelle':y_test, 'Valeur prédite':y_pred})\n",
    "print(df)\n",
    "\n",
    "#Affichage des taux d'erreur\n",
    "from sklearn import metrics\n",
    "print('Taux d\\'erreur')\n",
    "print('Moyennne absolue:', metrics.mean_absolute_error(y_test, y_pred))\n",
    "print('Myenne carré:', metrics.mean_squared_error(y_test, y_pred))\n",
    "print('Moyenne quadratique:', np.sqrt(metrics.mean_squared_error(y_test, y_pred)))"
   ]
  },
  {
   "cell_type": "raw",
   "metadata": {},
   "source": [
    "20% et 80%\n",
    "Mean Absolute Error: 0.27601785714285715\n",
    "Mean Squared Error: 0.12344146811224489\n",
    "Root Mean Squared Error: 0.35134238018241537\n",
    "\n",
    "30% et 70%\n",
    "Mean Absolute Error: 0.3058095238095238\n",
    "Mean Squared Error: 0.15645008843537414\n",
    "Root Mean Squared Error: 0.39553772062266596"
   ]
  }
 ],
 "metadata": {
  "kernelspec": {
   "display_name": "Python 3",
   "language": "python",
   "name": "python3"
  },
  "language_info": {
   "codemirror_mode": {
    "name": "ipython",
    "version": 3
   },
   "file_extension": ".py",
   "mimetype": "text/x-python",
   "name": "python",
   "nbconvert_exporter": "python",
   "pygments_lexer": "ipython3",
   "version": "3.7.4"
  }
 },
 "nbformat": 4,
 "nbformat_minor": 2
}
